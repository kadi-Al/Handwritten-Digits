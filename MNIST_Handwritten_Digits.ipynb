{
  "cells": [
    {
      "cell_type": "markdown",
      "metadata": {
        "id": "NjYvfqPvwwMR"
      },
      "source": [
        "# Introduction\n",
        "\n",
        "In this project, I will build a neural network of My own design to evaluate the MNIST dataset.\n",
        "\n",
        "\n",
        "## Installation"
      ]
    },
    {
      "cell_type": "code",
      "execution_count": null,
      "metadata": {
        "colab": {
          "base_uri": "https://localhost:8080/"
        },
        "id": "IKTCmMx6wwMT",
        "outputId": "71402f88-554b-49aa-c81e-ce6e0d8f078d"
      },
      "outputs": [
        {
          "name": "stdout",
          "output_type": "stream",
          "text": [
            "Collecting ipywidgets==8.1.5 (from -r requirements.txt (line 1))\n",
            "  Downloading ipywidgets-8.1.5-py3-none-any.whl.metadata (2.3 kB)\n",
            "Collecting comm>=0.1.3 (from ipywidgets==8.1.5->-r requirements.txt (line 1))\n",
            "  Downloading comm-0.2.3-py3-none-any.whl.metadata (3.7 kB)\n",
            "Requirement already satisfied: ipython>=6.1.0 in /usr/local/lib/python3.12/dist-packages (from ipywidgets==8.1.5->-r requirements.txt (line 1)) (7.34.0)\n",
            "Requirement already satisfied: traitlets>=4.3.1 in /usr/local/lib/python3.12/dist-packages (from ipywidgets==8.1.5->-r requirements.txt (line 1)) (5.7.1)\n",
            "Collecting widgetsnbextension~=4.0.12 (from ipywidgets==8.1.5->-r requirements.txt (line 1))\n",
            "  Downloading widgetsnbextension-4.0.14-py3-none-any.whl.metadata (1.6 kB)\n",
            "Requirement already satisfied: jupyterlab-widgets~=3.0.12 in /usr/local/lib/python3.12/dist-packages (from ipywidgets==8.1.5->-r requirements.txt (line 1)) (3.0.15)\n",
            "Requirement already satisfied: setuptools>=18.5 in /usr/local/lib/python3.12/dist-packages (from ipython>=6.1.0->ipywidgets==8.1.5->-r requirements.txt (line 1)) (75.2.0)\n",
            "Collecting jedi>=0.16 (from ipython>=6.1.0->ipywidgets==8.1.5->-r requirements.txt (line 1))\n",
            "  Downloading jedi-0.19.2-py2.py3-none-any.whl.metadata (22 kB)\n",
            "Requirement already satisfied: decorator in /usr/local/lib/python3.12/dist-packages (from ipython>=6.1.0->ipywidgets==8.1.5->-r requirements.txt (line 1)) (4.4.2)\n",
            "Requirement already satisfied: pickleshare in /usr/local/lib/python3.12/dist-packages (from ipython>=6.1.0->ipywidgets==8.1.5->-r requirements.txt (line 1)) (0.7.5)\n",
            "Requirement already satisfied: prompt-toolkit!=3.0.0,!=3.0.1,<3.1.0,>=2.0.0 in /usr/local/lib/python3.12/dist-packages (from ipython>=6.1.0->ipywidgets==8.1.5->-r requirements.txt (line 1)) (3.0.52)\n",
            "Requirement already satisfied: pygments in /usr/local/lib/python3.12/dist-packages (from ipython>=6.1.0->ipywidgets==8.1.5->-r requirements.txt (line 1)) (2.19.2)\n",
            "Requirement already satisfied: backcall in /usr/local/lib/python3.12/dist-packages (from ipython>=6.1.0->ipywidgets==8.1.5->-r requirements.txt (line 1)) (0.2.0)\n",
            "Requirement already satisfied: matplotlib-inline in /usr/local/lib/python3.12/dist-packages (from ipython>=6.1.0->ipywidgets==8.1.5->-r requirements.txt (line 1)) (0.1.7)\n",
            "Requirement already satisfied: pexpect>4.3 in /usr/local/lib/python3.12/dist-packages (from ipython>=6.1.0->ipywidgets==8.1.5->-r requirements.txt (line 1)) (4.9.0)\n",
            "Requirement already satisfied: parso<0.9.0,>=0.8.4 in /usr/local/lib/python3.12/dist-packages (from jedi>=0.16->ipython>=6.1.0->ipywidgets==8.1.5->-r requirements.txt (line 1)) (0.8.5)\n",
            "Requirement already satisfied: ptyprocess>=0.5 in /usr/local/lib/python3.12/dist-packages (from pexpect>4.3->ipython>=6.1.0->ipywidgets==8.1.5->-r requirements.txt (line 1)) (0.7.0)\n",
            "Requirement already satisfied: wcwidth in /usr/local/lib/python3.12/dist-packages (from prompt-toolkit!=3.0.0,!=3.0.1,<3.1.0,>=2.0.0->ipython>=6.1.0->ipywidgets==8.1.5->-r requirements.txt (line 1)) (0.2.13)\n",
            "Downloading ipywidgets-8.1.5-py3-none-any.whl (139 kB)\n",
            "\u001b[2K   \u001b[90m━━━━━━━━━━━━━━━━━━━━━━━━━━━━━━━━━━━━━━━━\u001b[0m \u001b[32m139.8/139.8 kB\u001b[0m \u001b[31m3.2 MB/s\u001b[0m eta \u001b[36m0:00:00\u001b[0m\n",
            "\u001b[?25hDownloading comm-0.2.3-py3-none-any.whl (7.3 kB)\n",
            "Downloading widgetsnbextension-4.0.14-py3-none-any.whl (2.2 MB)\n",
            "\u001b[2K   \u001b[90m━━━━━━━━━━━━━━━━━━━━━━━━━━━━━━━━━━━━━━━━\u001b[0m \u001b[32m2.2/2.2 MB\u001b[0m \u001b[31m24.5 MB/s\u001b[0m eta \u001b[36m0:00:00\u001b[0m\n",
            "\u001b[?25hDownloading jedi-0.19.2-py2.py3-none-any.whl (1.6 MB)\n",
            "\u001b[2K   \u001b[90m━━━━━━━━━━━━━━━━━━━━━━━━━━━━━━━━━━━━━━━━\u001b[0m \u001b[32m1.6/1.6 MB\u001b[0m \u001b[31m58.0 MB/s\u001b[0m eta \u001b[36m0:00:00\u001b[0m\n",
            "\u001b[?25hInstalling collected packages: widgetsnbextension, jedi, comm, ipywidgets\n",
            "  Attempting uninstall: widgetsnbextension\n",
            "    Found existing installation: widgetsnbextension 3.6.10\n",
            "    Uninstalling widgetsnbextension-3.6.10:\n",
            "      Successfully uninstalled widgetsnbextension-3.6.10\n",
            "  Attempting uninstall: ipywidgets\n",
            "    Found existing installation: ipywidgets 7.7.1\n",
            "    Uninstalling ipywidgets-7.7.1:\n",
            "      Successfully uninstalled ipywidgets-7.7.1\n",
            "Successfully installed comm-0.2.3 ipywidgets-8.1.5 jedi-0.19.2 widgetsnbextension-4.0.14\n"
          ]
        }
      ],
      "source": [
        "# Restart the Kernel after you execute this command.\n",
        "\n",
        "!python -m pip install -r requirements.txt"
      ]
    },
    {
      "cell_type": "markdown",
      "metadata": {
        "id": "C1Sw7pfgwwMU"
      },
      "source": [
        "## Imports"
      ]
    },
    {
      "cell_type": "code",
      "execution_count": null,
      "metadata": {
        "id": "-OB13wQQwwMV"
      },
      "outputs": [],
      "source": [
        "import torch\n",
        "import torch.nn as nn\n",
        "import torch.nn.functional as F\n",
        "import torch.optim as optim\n",
        "import torchvision\n",
        "import torchvision.transforms as transforms\n",
        "import matplotlib.pyplot as plt\n",
        "import numpy as np"
      ]
    },
    {
      "cell_type": "markdown",
      "metadata": {
        "id": "AVyo6QtTwwMV"
      },
      "source": [
        "## Load the Dataset\n",
        "\n"
      ]
    },
    {
      "cell_type": "code",
      "execution_count": null,
      "metadata": {
        "colab": {
          "base_uri": "https://localhost:8080/"
        },
        "id": "RA8lCSqYwwMV",
        "outputId": "11a529e9-7ba5-43af-8a40-04afeb40229e"
      },
      "outputs": [
        {
          "name": "stderr",
          "output_type": "stream",
          "text": [
            "100%|██████████| 9.91M/9.91M [00:01<00:00, 6.09MB/s]\n",
            "100%|██████████| 28.9k/28.9k [00:00<00:00, 161kB/s]\n",
            "100%|██████████| 1.65M/1.65M [00:01<00:00, 1.52MB/s]\n",
            "100%|██████████| 4.54k/4.54k [00:00<00:00, 5.04MB/s]\n"
          ]
        }
      ],
      "source": [
        "# Define transforms\n",
        "transform = transforms.Compose([\n",
        "    transforms.ToTensor(),\n",
        "    transforms.Normalize((0.5,), (0.5,))\n",
        "])\n",
        "\n",
        "# Create training set and define training dataloader\n",
        "train_set = torchvision.datasets.MNIST(root='./data', train=True, download=True, transform=transform)\n",
        "train_loader = torch.utils.data.DataLoader(train_set, batch_size=64, shuffle=True)\n",
        "\n",
        "# Create test set and define test dataloader\n",
        "test_set = torchvision.datasets.MNIST(root='./data', train=False, download=True, transform=transform)\n",
        "test_loader = torch.utils.data.DataLoader(test_set, batch_size=64, shuffle=False)"
      ]
    },
    {
      "cell_type": "markdown",
      "metadata": {
        "id": "-qMoxFDpwwMW"
      },
      "source": [
        "## preprocessing\n",
        "\n"
      ]
    },
    {
      "cell_type": "markdown",
      "metadata": {
        "id": "TDT1j_nBwwMW"
      },
      "source": [
        "I chose the following preprocessing steps:\n",
        "1. **ToTensor()**: Converts PIL images to PyTorch tensors and scales pixel values from [0,255] to [0,1]\n",
        "2. **Normalize((0.5,), (0.5,))**: Normalizes the tensor with mean=0.5 and std=0.5, transforming the range from [0,1] to [-1,1]. This helps the model converge faster during training.\n",
        "\n",
        "These transforms are standard for MNIST and help improve training stability and convergence."
      ]
    },
    {
      "cell_type": "markdown",
      "metadata": {
        "id": "xhGUGvQEwwMW"
      },
      "source": [
        "## Explore the Dataset\n",
        "Using matplotlib, numpy, and torch, explore the dimensions of your data.\n"
      ]
    },
    {
      "cell_type": "code",
      "execution_count": null,
      "metadata": {
        "id": "T8BWQyUfwwMX"
      },
      "outputs": [],
      "source": [
        "## This cell contains a function for showing 5 images from a dataloader – DO NOT CHANGE THE CONTENTS! ##\n",
        "def show5(img_loader):\n",
        "    dataiter = iter(img_loader)\n",
        "\n",
        "    batch = next(dataiter)\n",
        "    labels = batch[1][0:5]\n",
        "    images = batch[0][0:5]\n",
        "    for i in range(5):\n",
        "        print(int(labels[i].detach()))\n",
        "\n",
        "        image = images[i].numpy()\n",
        "        plt.imshow(image.T.squeeze().T)\n",
        "        plt.show()"
      ]
    },
    {
      "cell_type": "code",
      "execution_count": null,
      "metadata": {
        "colab": {
          "base_uri": "https://localhost:8080/",
          "height": 1000
        },
        "id": "bNYQeBUcwwMX",
        "outputId": "9a255c24-7ae8-4a49-b46c-62526f2780a3"
      },
      "outputs": [
        {
          "name": "stdout",
          "output_type": "stream",
          "text": [
            "Training set size: 60000\n",
            "Test set size: 10000\n",
            "Image shape: torch.Size([1, 28, 28])\n",
            "2\n"
          ]
        },
        {
          "data": {
            "image/png": "[encoded data removed]",
            "text/plain": [
              "<Figure size 640x480 with 1 Axes>"
            ]
          },
          "metadata": {},
          "output_type": "display_data"
        },
        {
          "name": "stdout",
          "output_type": "stream",
          "text": [
            "6\n"
          ]
        },
        {
          "data": {
            "image/png": "[encoded data removed]",
            "text/plain": [
              "<Figure size 640x480 with 1 Axes>"
            ]
          },
          "metadata": {},
          "output_type": "display_data"
        },
        {
          "name": "stdout",
          "output_type": "stream",
          "text": [
            "0\n"
          ]
        },
        {
          "data": {
            "image/png": "[encoded data removed]",
            "text/plain": [
              "<Figure size 640x480 with 1 Axes>"
            ]
          },
          "metadata": {},
          "output_type": "display_data"
        },
        {
          "name": "stdout",
          "output_type": "stream",
          "text": [
            "5\n"
          ]
        },
        {
          "data": {
            "image/png": "[encoded data removed]",
            "text/plain": [
              "<Figure size 640x480 with 1 Axes>"
            ]
          },
          "metadata": {},
          "output_type": "display_data"
        },
        {
          "name": "stdout",
          "output_type": "stream",
          "text": [
            "2\n"
          ]
        },
        {
          "data": {
            "image/png": "[encoded data removed]",
            "text/plain": [
              "<Figure size 640x480 with 1 Axes>"
            ]
          },
          "metadata": {},
          "output_type": "display_data"
        },
        {
          "name": "stdout",
          "output_type": "stream",
          "text": [
            "Batch shape: torch.Size([64, 1, 28, 28])\n",
            "Labels shape: torch.Size([64])\n"
          ]
        }
      ],
      "source": [
        "# Explore data\n",
        "print(f\"Training set size: {len(train_set)}\")\n",
        "print(f\"Test set size: {len(test_set)}\")\n",
        "print(f\"Image shape: {train_set[0][0].shape}\")\n",
        "\n",
        "# Show some images\n",
        "show5(train_loader)\n",
        "\n",
        "# Additional exploration\n",
        "images, labels = next(iter(train_loader))\n",
        "print(f\"Batch shape: {images.shape}\")\n",
        "print(f\"Labels shape: {labels.shape}\")"
      ]
    },
    {
      "cell_type": "markdown",
      "metadata": {
        "id": "QGeUf_Y8wwMX"
      },
      "source": [
        "## Build The Neural Network\n"
      ]
    },
    {
      "cell_type": "code",
      "execution_count": null,
      "metadata": {
        "id": "8fMhFrwQwwMX"
      },
      "outputs": [],
      "source": [
        "# Build your Neural Network\n",
        "class MNISTNet(nn.Module):\n",
        "    def __init__(self):\n",
        "        super(MNISTNet, self).__init__()\n",
        "        self.fc1 = nn.Linear(28*28, 128)\n",
        "        self.fc2 = nn.Linear(128, 64)\n",
        "        self.fc3 = nn.Linear(64, 10)\n",
        "        self.dropout = nn.Dropout(0.2)\n",
        "\n",
        "    def forward(self, x):\n",
        "        x = x.view(-1, 28*28)  # Flatten the image\n",
        "        x = F.relu(self.fc1(x))\n",
        "        x = self.dropout(x)\n",
        "        x = F.relu(self.fc2(x))\n",
        "        x = self.dropout(x)\n",
        "        x = self.fc3(x)\n",
        "        return F.log_softmax(x, dim=1)\n",
        "\n",
        "# Instantiate the model\n",
        "model = MNISTNet()"
      ]
    },
    {
      "cell_type": "markdown",
      "metadata": {
        "id": "uAakZLLTwwMX"
      },
      "source": [
        "Specify a loss function and an optimizer, and instantiate the model.\n",
        "\n"
      ]
    },
    {
      "cell_type": "code",
      "execution_count": null,
      "metadata": {
        "colab": {
          "base_uri": "https://localhost:8080/"
        },
        "id": "e7ORew_jwwMX",
        "outputId": "003bc5a8-7d28-4307-9b00-ad3d79461b52"
      },
      "outputs": [
        {
          "name": "stdout",
          "output_type": "stream",
          "text": [
            "MNISTNet(\n",
            "  (fc1): Linear(in_features=784, out_features=128, bias=True)\n",
            "  (fc2): Linear(in_features=128, out_features=64, bias=True)\n",
            "  (fc3): Linear(in_features=64, out_features=10, bias=True)\n",
            "  (dropout): Dropout(p=0.2, inplace=False)\n",
            ")\n"
          ]
        }
      ],
      "source": [
        "# Specify loss function and optimizer\n",
        "criterion = nn.CrossEntropyLoss()\n",
        "optimizer = optim.Adam(model.parameters(), lr=0.001)\n",
        "\n",
        "print(model)"
      ]
    },
    {
      "cell_type": "markdown",
      "metadata": {
        "id": "0SDMloJ2wwMX"
      },
      "source": [
        "## Running The Neural Network\n"
      ]
    },
    {
      "cell_type": "code",
      "execution_count": null,
      "metadata": {
        "colab": {
          "base_uri": "https://localhost:8080/"
        },
        "id": "T-0KvnnlwwMX",
        "outputId": "feef34cd-1ae8-44ee-928a-75a5a5800330"
      },
      "outputs": [
        {
          "name": "stdout",
          "output_type": "stream",
          "text": [
            "Epoch: 1/10 | Batch: 0/938 | Loss: 2.306796\n",
            "Epoch: 1/10 | Batch: 250/938 | Loss: 0.459556\n",
            "Epoch: 1/10 | Batch: 500/938 | Loss: 0.549944\n",
            "Epoch: 1/10 | Batch: 750/938 | Loss: 0.455075\n",
            "Epoch 1 completed. Average Loss: 0.499306\n",
            "Epoch: 2/10 | Batch: 0/938 | Loss: 0.277066\n",
            "Epoch: 2/10 | Batch: 250/938 | Loss: 0.198622\n",
            "Epoch: 2/10 | Batch: 500/938 | Loss: 0.378301\n",
            "Epoch: 2/10 | Batch: 750/938 | Loss: 0.268683\n",
            "Epoch 2 completed. Average Loss: 0.256902\n",
            "Epoch: 3/10 | Batch: 0/938 | Loss: 0.232634\n",
            "Epoch: 3/10 | Batch: 250/938 | Loss: 0.374223\n",
            "Epoch: 3/10 | Batch: 500/938 | Loss: 0.377935\n",
            "Epoch: 3/10 | Batch: 750/938 | Loss: 0.088899\n",
            "Epoch 3 completed. Average Loss: 0.204728\n",
            "Epoch: 4/10 | Batch: 0/938 | Loss: 0.341375\n",
            "Epoch: 4/10 | Batch: 250/938 | Loss: 0.274215\n",
            "Epoch: 4/10 | Batch: 500/938 | Loss: 0.468867\n",
            "Epoch: 4/10 | Batch: 750/938 | Loss: 0.305029\n",
            "Epoch 4 completed. Average Loss: 0.185405\n",
            "Epoch: 5/10 | Batch: 0/938 | Loss: 0.206023\n",
            "Epoch: 5/10 | Batch: 250/938 | Loss: 0.266034\n",
            "Epoch: 5/10 | Batch: 500/938 | Loss: 0.076679\n",
            "Epoch: 5/10 | Batch: 750/938 | Loss: 0.071665\n",
            "Epoch 5 completed. Average Loss: 0.166931\n",
            "Epoch: 6/10 | Batch: 0/938 | Loss: 0.155531\n",
            "Epoch: 6/10 | Batch: 250/938 | Loss: 0.176045\n",
            "Epoch: 6/10 | Batch: 500/938 | Loss: 0.083316\n",
            "Epoch: 6/10 | Batch: 750/938 | Loss: 0.266071\n",
            "Epoch 6 completed. Average Loss: 0.156101\n",
            "Epoch: 7/10 | Batch: 0/938 | Loss: 0.155607\n",
            "Epoch: 7/10 | Batch: 250/938 | Loss: 0.088757\n",
            "Epoch: 7/10 | Batch: 500/938 | Loss: 0.064356\n",
            "Epoch: 7/10 | Batch: 750/938 | Loss: 0.124669\n",
            "Epoch 7 completed. Average Loss: 0.150246\n",
            "Epoch: 8/10 | Batch: 0/938 | Loss: 0.163716\n",
            "Epoch: 8/10 | Batch: 250/938 | Loss: 0.432357\n",
            "Epoch: 8/10 | Batch: 500/938 | Loss: 0.031076\n",
            "Epoch: 8/10 | Batch: 750/938 | Loss: 0.058010\n",
            "Epoch 8 completed. Average Loss: 0.140881\n",
            "Epoch: 9/10 | Batch: 0/938 | Loss: 0.032875\n",
            "Epoch: 9/10 | Batch: 250/938 | Loss: 0.195228\n",
            "Epoch: 9/10 | Batch: 500/938 | Loss: 0.095723\n",
            "Epoch: 9/10 | Batch: 750/938 | Loss: 0.247360\n",
            "Epoch 9 completed. Average Loss: 0.135803\n",
            "Epoch: 10/10 | Batch: 0/938 | Loss: 0.037337\n",
            "Epoch: 10/10 | Batch: 250/938 | Loss: 0.039859\n",
            "Epoch: 10/10 | Batch: 500/938 | Loss: 0.081601\n",
            "Epoch: 10/10 | Batch: 750/938 | Loss: 0.081843\n",
            "Epoch 10 completed. Average Loss: 0.128459\n"
          ]
        }
      ],
      "source": [
        "# Running your Neural Network\n",
        "device = torch.device(\"cuda\" if torch.cuda.is_available() else \"cpu\")\n",
        "model.to(device)\n",
        "\n",
        "train_losses = []\n",
        "epochs = 10\n",
        "\n",
        "for epoch in range(epochs):\n",
        "    model.train()\n",
        "    running_loss = 0.0\n",
        "\n",
        "    for batch_idx, (data, target) in enumerate(train_loader):\n",
        "        data, target = data.to(device), target.to(device)\n",
        "\n",
        "        optimizer.zero_grad()\n",
        "        output = model(data)\n",
        "        loss = criterion(output, target)\n",
        "        loss.backward()\n",
        "        optimizer.step()\n",
        "\n",
        "        running_loss += loss.item()\n",
        "\n",
        "        if batch_idx % 250 == 0:\n",
        "            print(f'Epoch: {epoch+1}/{epochs} | Batch: {batch_idx}/{len(train_loader)} | Loss: {loss.item():.6f}')\n",
        "\n",
        "    avg_loss = running_loss / len(train_loader)\n",
        "    train_losses.append(avg_loss)\n",
        "    print(f'Epoch {epoch+1} completed. Average Loss: {avg_loss:.6f}')"
      ]
    },
    {
      "cell_type": "markdown",
      "metadata": {
        "id": "o0heR61wwwMY"
      },
      "source": [
        "Plot the training loss (and validation loss/accuracy, if recorded)."
      ]
    },
    {
      "cell_type": "code",
      "execution_count": null,
      "metadata": {
        "colab": {
          "base_uri": "https://localhost:8080/",
          "height": 467
        },
        "id": "MKGSq-XqwwMY",
        "outputId": "e29d8afe-d522-4a91-a00a-f0e85be29ef1"
      },
      "outputs": [
        {
          "data": {
            "image/png": "[encoded data removed]",
            "text/plain": [
              "<Figure size 1000x500 with 1 Axes>"
            ]
          },
          "metadata": {},
          "output_type": "display_data"
        }
      ],
      "source": [
        "# Plot the training loss\n",
        "plt.figure(figsize=(10, 5))\n",
        "plt.plot(range(1, epochs+1), train_losses, 'b-', label='Training Loss')\n",
        "plt.xlabel('Epochs')\n",
        "plt.ylabel('Loss')\n",
        "plt.title('Training Loss Over Epochs')\n",
        "plt.legend()\n",
        "plt.grid(True)\n",
        "plt.show()"
      ]
    },
    {
      "cell_type": "markdown",
      "metadata": {
        "id": "6ZXef8cFwwMY"
      },
      "source": [
        "## Testing THe model\n"
      ]
    },
    {
      "cell_type": "code",
      "execution_count": null,
      "metadata": {
        "colab": {
          "base_uri": "https://localhost:8080/"
        },
        "id": "hr_QiE-GwwMY",
        "outputId": "d3d9299c-204a-4711-b730-6cdc67d761e3"
      },
      "outputs": [
        {
          "name": "stdout",
          "output_type": "stream",
          "text": [
            "Test Accuracy: 97.06%\n"
          ]
        }
      ],
      "source": [
        "# Testing your model\n",
        "def test_model(model, test_loader, device):\n",
        "    model.eval()\n",
        "    correct = 0\n",
        "    total = 0\n",
        "\n",
        "    with torch.no_grad():\n",
        "        for data, target in test_loader:\n",
        "            data, target = data.to(device), target.to(device)\n",
        "            outputs = model(data)\n",
        "            _, predicted = torch.max(outputs.data, 1)\n",
        "            total += target.size(0)\n",
        "            correct += (predicted == target).sum().item()\n",
        "\n",
        "    accuracy = 100 * correct / total\n",
        "    print(f'Test Accuracy: {accuracy:.2f}%')\n",
        "    return accuracy\n",
        "\n",
        "accuracy = test_model(model, test_loader, device)"
      ]
    },
    {
      "cell_type": "markdown",
      "metadata": {
        "id": "2s49J83AwwMY"
      },
      "source": [
        "## Improving The model\n",
        "\n"
      ]
    },
    {
      "cell_type": "code",
      "execution_count": null,
      "metadata": {
        "colab": {
          "base_uri": "https://localhost:8080/"
        },
        "id": "r-hG5yzQwwMY",
        "outputId": "aaed6656-b13c-4078-bd00-acde4bf0f59d"
      },
      "outputs": [
        {
          "name": "stdout",
          "output_type": "stream",
          "text": [
            "Epoch 1 completed. Average Loss: 0.551566\n",
            "Epoch 2 completed. Average Loss: 0.285918\n",
            "Epoch 3 completed. Average Loss: 0.237786\n",
            "Epoch 4 completed. Average Loss: 0.209824\n",
            "Epoch 5 completed. Average Loss: 0.193117\n",
            "Epoch 6 completed. Average Loss: 0.188230\n",
            "Epoch 7 completed. Average Loss: 0.174133\n",
            "Epoch 8 completed. Average Loss: 0.170148\n",
            "Epoch 9 completed. Average Loss: 0.162938\n",
            "Epoch 10 completed. Average Loss: 0.156643\n",
            "Epoch 11 completed. Average Loss: 0.150570\n",
            "Epoch 12 completed. Average Loss: 0.146746\n",
            "Epoch 13 completed. Average Loss: 0.140436\n",
            "Epoch 14 completed. Average Loss: 0.143999\n",
            "Epoch 15 completed. Average Loss: 0.140632\n",
            "Test Accuracy: 97.56%\n"
          ]
        }
      ],
      "source": [
        "# Improving The model - adding epochs\n",
        "class ImprovedMNISTNet(nn.Module):\n",
        "    def __init__(self):\n",
        "        super(ImprovedMNISTNet, self).__init__()\n",
        "        self.fc1 = nn.Linear(28*28, 256)\n",
        "        self.fc2 = nn.Linear(256, 128)\n",
        "        self.fc3 = nn.Linear(128, 64)\n",
        "        self.fc4 = nn.Linear(64, 10)\n",
        "        self.dropout = nn.Dropout(0.3)\n",
        "\n",
        "    def forward(self, x):\n",
        "        x = x.view(-1, 28*28)\n",
        "        x = F.relu(self.fc1(x))\n",
        "        x = self.dropout(x)\n",
        "        x = F.relu(self.fc2(x))\n",
        "        x = self.dropout(x)\n",
        "        x = F.relu(self.fc3(x))\n",
        "        x = self.dropout(x)\n",
        "        x = self.fc4(x)\n",
        "        return F.log_softmax(x, dim=1)\n",
        "\n",
        "# Train improved model\n",
        "improved_model = ImprovedMNISTNet().to(device)\n",
        "optimizer = optim.Adam(improved_model.parameters(), lr=0.001, weight_decay=1e-4)\n",
        "\n",
        "improved_losses = []\n",
        "epochs = 15\n",
        "\n",
        "for epoch in range(epochs):\n",
        "    improved_model.train()\n",
        "    running_loss = 0.0\n",
        "\n",
        "    for batch_idx, (data, target) in enumerate(train_loader):\n",
        "        data, target = data.to(device), target.to(device)\n",
        "\n",
        "        optimizer.zero_grad()\n",
        "        output = improved_model(data)\n",
        "        loss = criterion(output, target)\n",
        "        loss.backward()\n",
        "        optimizer.step()\n",
        "\n",
        "        running_loss += loss.item()\n",
        "\n",
        "    avg_loss = running_loss / len(train_loader)\n",
        "    improved_losses.append(avg_loss)\n",
        "    print(f'Epoch {epoch+1} completed. Average Loss: {avg_loss:.6f}')\n",
        "\n",
        "# Test improved model\n",
        "improved_accuracy = test_model(improved_model, test_loader, device)"
      ]
    },
    {
      "cell_type": "markdown",
      "metadata": {
        "id": "xOMMeuXYwwMY"
      },
      "source": [
        "## Saving The model\n"
      ]
    },
    {
      "cell_type": "code",
      "execution_count": null,
      "metadata": {
        "colab": {
          "base_uri": "https://localhost:8080/"
        },
        "id": "wYgCBJfUwwMY",
        "outputId": "24b0413f-b247-43a6-eee5-41d88464b300"
      },
      "outputs": [
        {
          "name": "stdout",
          "output_type": "stream",
          "text": [
            "Model saved as 'mnist_model.pth'\n"
          ]
        }
      ],
      "source": [
        "# Saving The model\n",
        "torch.save(improved_model.state_dict(), 'mnist_model.pth')\n",
        "print(\"Model saved as 'mnist_model.pth'\")\n",
        "\n",
        "# To load the model later:\n",
        "# model = ImprovedMNISTNet()\n",
        "# model.load_state_dict(torch.load('mnist_model.pth'))"
      ]
    }
  ],
  "metadata": {
    "colab": {
      "provenance": []
    },
    "kernelspec": {
      "display_name": "Python 3",
      "language": "python",
      "name": "python3"
    },
    "language_info": {
      "codemirror_mode": {
        "name": "ipython",
        "version": 3
      },
      "file_extension": ".py",
      "mimetype": "text/x-python",
      "name": "python",
      "nbconvert_exporter": "python",
      "pygments_lexer": "ipython3",
      "version": "3.7.6"
    }
  },
  "nbformat": 4,
  "nbformat_minor": 0
}
